{
  "nbformat": 4,
  "nbformat_minor": 0,
  "metadata": {
    "colab": {
      "name": "review.ipynb",
      "version": "0.3.2",
      "provenance": [],
      "include_colab_link": true
    },
    "kernelspec": {
      "name": "python3",
      "display_name": "Python 3"
    }
  },
  "cells": [
    {
      "cell_type": "markdown",
      "metadata": {
        "id": "view-in-github",
        "colab_type": "text"
      },
      "source": [
        "<a href=\"https://colab.research.google.com/github/playitsaiff/natural-language-processing/blob/master/review.ipynb\" target=\"_parent\"><img src=\"https://colab.research.google.com/assets/colab-badge.svg\" alt=\"Open In Colab\"/></a>"
      ]
    },
    {
      "cell_type": "code",
      "metadata": {
        "id": "j05x-Dcs0DFN",
        "colab_type": "code",
        "colab": {}
      },
      "source": [
        "import sklearn\n",
        "import matplotlib.pyplot as plt\n",
        "%matplotlib inline\n",
        "import pandas as pd\n",
        "from sklearn.model_selection import train_test_split\n",
        "import numpy as np\n",
        "from sklearn.preprocessing import LabelEncoder\n",
        "from sklearn.preprocessing import OneHotEncoder"
      ],
      "execution_count": 0,
      "outputs": []
    },
    {
      "cell_type": "code",
      "metadata": {
        "id": "LF5Rz4zo0K4L",
        "colab_type": "code",
        "colab": {}
      },
      "source": [
        "from sklearn.linear_model import LogisticRegression\n",
        "from sklearn.neighbors import KNeighborsClassifier\n",
        "from sklearn.svm import SVC, LinearSVC, NuSVC\n",
        "from sklearn.tree import DecisionTreeClassifier\n",
        "from sklearn.ensemble import RandomForestClassifier, AdaBoostClassifier, GradientBoostingClassifier\n",
        "from sklearn.naive_bayes import GaussianNB\n",
        "from sklearn.discriminant_analysis import LinearDiscriminantAnalysis\n",
        "from sklearn.discriminant_analysis import QuadraticDiscriminantAnalysis\n",
        "from sklearn.metrics import accuracy_score"
      ],
      "execution_count": 0,
      "outputs": []
    },
    {
      "cell_type": "code",
      "metadata": {
        "id": "TIcBVQ880LTx",
        "colab_type": "code",
        "colab": {
          "base_uri": "https://localhost:8080/",
          "height": 104
        },
        "outputId": "d718241b-d35f-4a0e-a1dc-45bcab9ff7af"
      },
      "source": [
        "import nltk\n",
        "nltk.download('punkt')\n",
        "nltk.download(\"wordnet\")"
      ],
      "execution_count": 51,
      "outputs": [
        {
          "output_type": "stream",
          "text": [
            "[nltk_data] Downloading package punkt to /root/nltk_data...\n",
            "[nltk_data]   Package punkt is already up-to-date!\n",
            "[nltk_data] Downloading package wordnet to /root/nltk_data...\n",
            "[nltk_data]   Package wordnet is already up-to-date!\n"
          ],
          "name": "stdout"
        },
        {
          "output_type": "execute_result",
          "data": {
            "text/plain": [
              "True"
            ]
          },
          "metadata": {
            "tags": []
          },
          "execution_count": 51
        }
      ]
    },
    {
      "cell_type": "code",
      "metadata": {
        "id": "sMUxykXw0NuY",
        "colab_type": "code",
        "colab": {
          "resources": {
            "http://localhost:8080/nbextensions/google.colab/files.js": {
              "data": "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",
              "ok": true,
              "headers": [
                [
                  "content-type",
                  "application/javascript"
                ]
              ],
              "status": 200,
              "status_text": "OK"
            }
          },
          "base_uri": "https://localhost:8080/",
          "height": 83
        },
        "outputId": "12be5b8a-973d-4a6e-911c-a1afcb9ee6d4"
      },
      "source": [
        "from google.colab import files\n",
        "uploaded = files.upload()"
      ],
      "execution_count": 52,
      "outputs": [
        {
          "output_type": "display_data",
          "data": {
            "text/html": [
              "\n",
              "     <input type=\"file\" id=\"files-b9b8c73e-a283-4f3b-b505-53b09cc89fbd\" name=\"files[]\" multiple disabled />\n",
              "     <output id=\"result-b9b8c73e-a283-4f3b-b505-53b09cc89fbd\">\n",
              "      Upload widget is only available when the cell has been executed in the\n",
              "      current browser session. Please rerun this cell to enable.\n",
              "      </output>\n",
              "      <script src=\"/nbextensions/google.colab/files.js\"></script> "
            ],
            "text/plain": [
              "<IPython.core.display.HTML object>"
            ]
          },
          "metadata": {
            "tags": []
          }
        },
        {
          "output_type": "stream",
          "text": [
            "Saving Sampled.csv to Sampled (3).csv\n"
          ],
          "name": "stdout"
        }
      ]
    },
    {
      "cell_type": "code",
      "metadata": {
        "id": "DrOq7vlS0PjV",
        "colab_type": "code",
        "colab": {}
      },
      "source": [
        "df = pd.read_csv(\"Sampled.csv\")"
      ],
      "execution_count": 0,
      "outputs": []
    },
    {
      "cell_type": "code",
      "metadata": {
        "id": "HSTTmYyB0UdP",
        "colab_type": "code",
        "colab": {
          "base_uri": "https://localhost:8080/",
          "height": 69
        },
        "outputId": "13ad7caf-808e-4ad4-e344-7f40c204314a"
      },
      "source": [
        "import nltk\n",
        "nltk.download (\"stopwords\")"
      ],
      "execution_count": 54,
      "outputs": [
        {
          "output_type": "stream",
          "text": [
            "[nltk_data] Downloading package stopwords to /root/nltk_data...\n",
            "[nltk_data]   Package stopwords is already up-to-date!\n"
          ],
          "name": "stdout"
        },
        {
          "output_type": "execute_result",
          "data": {
            "text/plain": [
              "True"
            ]
          },
          "metadata": {
            "tags": []
          },
          "execution_count": 54
        }
      ]
    },
    {
      "cell_type": "code",
      "metadata": {
        "id": "cly93LAn0qlH",
        "colab_type": "code",
        "colab": {}
      },
      "source": [
        "x_review=pd.DataFrame()\n",
        "x_review[\"text\"]=df[\"content\"]"
      ],
      "execution_count": 0,
      "outputs": []
    },
    {
      "cell_type": "code",
      "metadata": {
        "id": "SKvvbPDO0vZk",
        "colab_type": "code",
        "colab": {
          "base_uri": "https://localhost:8080/",
          "height": 519
        },
        "outputId": "5dc3a28e-725f-48fc-bc92-465b930076e5"
      },
      "source": [
        "x_review.head()"
      ],
      "execution_count": 58,
      "outputs": [
        {
          "output_type": "execute_result",
          "data": {
            "text/html": [
              "<div>\n",
              "<style scoped>\n",
              "    .dataframe tbody tr th:only-of-type {\n",
              "        vertical-align: middle;\n",
              "    }\n",
              "\n",
              "    .dataframe tbody tr th {\n",
              "        vertical-align: top;\n",
              "    }\n",
              "\n",
              "    .dataframe thead th {\n",
              "        text-align: right;\n",
              "    }\n",
              "</style>\n",
              "<table border=\"1\" class=\"dataframe\">\n",
              "  <thead>\n",
              "    <tr style=\"text-align: right;\">\n",
              "      <th></th>\n",
              "      <th>text</th>\n",
              "    </tr>\n",
              "  </thead>\n",
              "  <tbody>\n",
              "    <tr>\n",
              "      <th>0</th>\n",
              "      <td>New revised economy's seating arrangement on ANA's 777-300 ER was a big disappointment. Flew on NH 0007 on May 18 continued on NH 835 on 787 on May 19 after 2.45 transit time. The first flight SFO-NRT was a miserable 10+ hours flight. I didn't expect to see 3x4x3 on a 77W seat plan especially from a 5 star airlines. Food was great and cabin crew were attentive but couldn't make up for the awkward seating arrangement. The second flight was on a 787 with a generous 2+4+2 it was a much better flight and I hope ANA will keep the seating arrangement on a 7+ hrs flight.</td>\n",
              "    </tr>\n",
              "    <tr>\n",
              "      <th>1</th>\n",
              "      <td>KUL-MELMEL-KUL check in good and fast friendly staff. Airbus 330-300 very clean with a lot of legroom friendly staff on board and food was not expensive. All flights on schedule.</td>\n",
              "    </tr>\n",
              "    <tr>\n",
              "      <th>2</th>\n",
              "      <td>Just got back from Barbados on the (now) infamous TCX816 fight which was delayed a few times. We initially sat on the plane for 4hrs without going anywhere (not good) due to technical problems. Eventually got off the plane and taken to a hotel which was very nice. Thomas Cook did everything possible to make the transition smooth staff very helpful and polite. Should have left 6.30pm Thursday eventually left around 4pm Saturday. Would like to thank Thomas Cook for doing everything they could with efficiency and polite staff. My only criticism was having to hang about waiting for further updates every few hours had they said 24 plus hrs delay we could have enjoyed extra time on the beach instead of hotel room waiting for calls.</td>\n",
              "    </tr>\n",
              "    <tr>\n",
              "      <th>3</th>\n",
              "      <td>Ho Chi Minh City to Kuala Lumpur on December 29 2014. The only 4 check-in counters open and I had to wait approx. 45 mins although only about 10 people queuing. The flight used a B737-800 and the crew were good. The magazines and newspapers were in a bad shape. The food were good (didn't get any options since they were running out of food). The luggage took another 45 minutes to come out.</td>\n",
              "    </tr>\n",
              "    <tr>\n",
              "      <th>4</th>\n",
              "      <td>KUL-CDG on A380. The aircraft is nice and entertainment system was sufficient for the long flight. But the crews were terrible. Poor services throughout the flight not attentive to the needs of passengers and when requesting anything seemed reluctant to provide anything. No smiles from the crew. Definitely not a 5 star airlines with this kind of poor service.</td>\n",
              "    </tr>\n",
              "  </tbody>\n",
              "</table>\n",
              "</div>"
            ],
            "text/plain": [
              "                                                                                                                                                                                                                                                                                                                                                                                                                                                                                                                                                                                                                                                                                                                                                              text\n",
              "0  New revised economy's seating arrangement on ANA's 777-300 ER was a big disappointment. Flew on NH 0007 on May 18 continued on NH 835 on 787 on May 19 after 2.45 transit time. The first flight SFO-NRT was a miserable 10+ hours flight. I didn't expect to see 3x4x3 on a 77W seat plan especially from a 5 star airlines. Food was great and cabin crew were attentive but couldn't make up for the awkward seating arrangement. The second flight was on a 787 with a generous 2+4+2 it was a much better flight and I hope ANA will keep the seating arrangement on a 7+ hrs flight.                                                                                                                                                                     \n",
              "1  KUL-MELMEL-KUL check in good and fast friendly staff. Airbus 330-300 very clean with a lot of legroom friendly staff on board and food was not expensive. All flights on schedule.                                                                                                                                                                                                                                                                                                                                                                                                                                                                                                                                                                             \n",
              "2  Just got back from Barbados on the (now) infamous TCX816 fight which was delayed a few times. We initially sat on the plane for 4hrs without going anywhere (not good) due to technical problems. Eventually got off the plane and taken to a hotel which was very nice. Thomas Cook did everything possible to make the transition smooth staff very helpful and polite. Should have left 6.30pm Thursday eventually left around 4pm Saturday. Would like to thank Thomas Cook for doing everything they could with efficiency and polite staff. My only criticism was having to hang about waiting for further updates every few hours had they said 24 plus hrs delay we could have enjoyed extra time on the beach instead of hotel room waiting for calls.\n",
              "3  Ho Chi Minh City to Kuala Lumpur on December 29 2014. The only 4 check-in counters open and I had to wait approx. 45 mins although only about 10 people queuing. The flight used a B737-800 and the crew were good. The magazines and newspapers were in a bad shape. The food were good (didn't get any options since they were running out of food). The luggage took another 45 minutes to come out.                                                                                                                                                                                                                                                                                                                                                        \n",
              "4  KUL-CDG on A380. The aircraft is nice and entertainment system was sufficient for the long flight. But the crews were terrible. Poor services throughout the flight not attentive to the needs of passengers and when requesting anything seemed reluctant to provide anything. No smiles from the crew. Definitely not a 5 star airlines with this kind of poor service.                                                                                                                                                                                                                                                                                                                                                                                      "
            ]
          },
          "metadata": {
            "tags": []
          },
          "execution_count": 58
        }
      ]
    },
    {
      "cell_type": "code",
      "metadata": {
        "id": "15O98Trt0yHj",
        "colab_type": "code",
        "colab": {}
      },
      "source": [
        "import re,nltk\n",
        "from nltk.stem import WordNetLemmatizer\n",
        "from nltk.corpus import stopwords\n",
        "stop_words=set(stopwords.words(\"english\"))\n",
        "wordnet_lemmatizer=WordNetLemmatizer()"
      ],
      "execution_count": 0,
      "outputs": []
    },
    {
      "cell_type": "code",
      "metadata": {
        "id": "qtJ63sH41oS4",
        "colab_type": "code",
        "colab": {}
      },
      "source": [
        "def normalizer(review):\n",
        "    only_letters = re.sub(\"[^a-zA-Z]\", \" \",review) \n",
        "    tokens = nltk.word_tokenize(only_letters)[2:]\n",
        "    lower_case = [l.lower() for l in tokens]\n",
        "    filtered_result = list(filter(lambda l: l not in stop_words, lower_case))\n",
        "    lemmas = [wordnet_lemmatizer.lemmatize(t) for t in filtered_result]\n",
        "    return lemmas"
      ],
      "execution_count": 0,
      "outputs": []
    },
    {
      "cell_type": "code",
      "metadata": {
        "id": "7Y3NLQl71qRe",
        "colab_type": "code",
        "colab": {}
      },
      "source": [
        "pd.set_option('display.max_colwidth', -1)\n",
        "x_review['normalized'] = x_review[\"text\"].apply(normalizer)"
      ],
      "execution_count": 0,
      "outputs": []
    },
    {
      "cell_type": "code",
      "metadata": {
        "id": "ZHkg0BEL1sSO",
        "colab_type": "code",
        "colab": {}
      },
      "source": [
        "from nltk import ngrams\n",
        "def ngrams(input_list):\n",
        "    #onegrams = input_list\n",
        "    bigrams = [' '.join(t) for t in list(zip(input_list, input_list[1:]))]\n",
        "    trigrams = [' '.join(t) for t in list(zip(input_list, input_list[1:], input_list[2:]))]\n",
        "    return bigrams+trigrams\n",
        "x_review['grams'] = x_review.normalized.apply(ngrams)"
      ],
      "execution_count": 0,
      "outputs": []
    },
    {
      "cell_type": "code",
      "metadata": {
        "id": "PwW9qKen2Rax",
        "colab_type": "code",
        "colab": {}
      },
      "source": [
        "import collections\n",
        "def count_words(input):\n",
        "    cnt = collections.Counter()\n",
        "    for row in input:\n",
        "        for word in row:\n",
        "            cnt[word] += 1\n",
        "    return cnt"
      ],
      "execution_count": 0,
      "outputs": []
    },
    {
      "cell_type": "code",
      "metadata": {
        "id": "mT4B1n5G3bZd",
        "colab_type": "code",
        "colab": {}
      },
      "source": [
        "x_review[\"recommended\"]=df[\"recommended\"]"
      ],
      "execution_count": 0,
      "outputs": []
    },
    {
      "cell_type": "code",
      "metadata": {
        "id": "_zpGAilM3E5Q",
        "colab_type": "code",
        "colab": {
          "base_uri": "https://localhost:8080/",
          "height": 364
        },
        "outputId": "27c25102-e41b-408a-a0cd-68eeb969e13c"
      },
      "source": [
        "x_review[(x_review.recommended== 0)][['grams']].apply(count_words)['grams'].most_common(20)"
      ],
      "execution_count": 63,
      "outputs": [
        {
          "output_type": "execute_result",
          "data": {
            "text/plain": [
              "[('business class', 175),\n",
              " ('cabin crew', 115),\n",
              " ('flight attendant', 109),\n",
              " ('hour flight', 100),\n",
              " ('air canada', 83),\n",
              " ('return flight', 78),\n",
              " ('connecting flight', 71),\n",
              " ('flight delayed', 65),\n",
              " ('customer service', 63),\n",
              " ('leg room', 58),\n",
              " ('inflight entertainment', 54),\n",
              " ('entertainment system', 52),\n",
              " ('never fly', 46),\n",
              " ('flight time', 45),\n",
              " ('first class', 44),\n",
              " ('delayed hour', 42),\n",
              " ('flight cancelled', 37),\n",
              " ('next day', 37),\n",
              " ('even though', 36),\n",
              " ('long haul', 35)]"
            ]
          },
          "metadata": {
            "tags": []
          },
          "execution_count": 63
        }
      ]
    },
    {
      "cell_type": "code",
      "metadata": {
        "id": "IhwW-ymd4gJL",
        "colab_type": "code",
        "colab": {
          "base_uri": "https://localhost:8080/",
          "height": 364
        },
        "outputId": "227104c1-09f0-4968-fa37-b8b5d6ac3fa6"
      },
      "source": [
        "x_review[(x_review.recommended== 1)][['grams']].apply(count_words)['grams'].most_common(20)"
      ],
      "execution_count": 64,
      "outputs": [
        {
          "output_type": "execute_result",
          "data": {
            "text/plain": [
              "[('business class', 229),\n",
              " ('cabin crew', 217),\n",
              " ('flight attendant', 132),\n",
              " ('flight time', 130),\n",
              " ('seat comfortable', 108),\n",
              " ('leg room', 98),\n",
              " ('inflight entertainment', 83),\n",
              " ('return flight', 82),\n",
              " ('hour flight', 75),\n",
              " ('economy class', 74),\n",
              " ('food good', 67),\n",
              " ('first class', 63),\n",
              " ('entertainment system', 63),\n",
              " ('service good', 61),\n",
              " ('long haul', 58),\n",
              " ('good service', 53),\n",
              " ('short flight', 50),\n",
              " ('food drink', 49),\n",
              " ('good food', 47),\n",
              " ('staff friendly', 46)]"
            ]
          },
          "metadata": {
            "tags": []
          },
          "execution_count": 64
        }
      ]
    },
    {
      "cell_type": "code",
      "metadata": {
        "id": "cXeenjO85Dhu",
        "colab_type": "code",
        "colab": {}
      },
      "source": [
        "y_review=x_review.recommended\n",
        "y_review_train=y_review[:1500][:]\n",
        "y_review_test=y_review[1500:][:]\n",
        "x_review_train=x_review[:1500][:]\n",
        "x_review_test=x_review[1500:][:]"
      ],
      "execution_count": 0,
      "outputs": []
    },
    {
      "cell_type": "code",
      "metadata": {
        "id": "K6UYJD8q6ard",
        "colab_type": "code",
        "colab": {
          "base_uri": "https://localhost:8080/",
          "height": 121
        },
        "outputId": "cd089dfa-162c-414a-f76f-13fd09955bb8"
      },
      "source": [
        "y_review_train.head()"
      ],
      "execution_count": 66,
      "outputs": [
        {
          "output_type": "execute_result",
          "data": {
            "text/plain": [
              "0    0\n",
              "1    1\n",
              "2    1\n",
              "3    1\n",
              "4    0\n",
              "Name: recommended, dtype: int64"
            ]
          },
          "metadata": {
            "tags": []
          },
          "execution_count": 66
        }
      ]
    },
    {
      "cell_type": "code",
      "metadata": {
        "id": "gmg2BF6y6g9G",
        "colab_type": "code",
        "colab": {}
      },
      "source": [
        "economy=df[df.cabin_flown==\"Economy\"]\n",
        "business=df[df.cabin_flown==\"Business Class\"]\n",
        "peconomy=df[df.cabin_flown==\"Premium Economy\"]\n",
        "first=df[df.cabin_flown==\"First Class\"]"
      ],
      "execution_count": 0,
      "outputs": []
    },
    {
      "cell_type": "code",
      "metadata": {
        "id": "IrujnR9-Ijdn",
        "colab_type": "code",
        "colab": {
          "base_uri": "https://localhost:8080/",
          "height": 593
        },
        "outputId": "56c1df42-6200-43ce-d21c-73ab152c6503"
      },
      "source": [
        "\n",
        "economy['normalized'] = economy[\"content\"].apply(normalizer)\n",
        "economy['grams'] = economy.normalized.apply(ngrams)\n",
        "economy[(economy.recommended== 0)][['grams']].apply(count_words)['grams'].most_common(20)"
      ],
      "execution_count": 72,
      "outputs": [
        {
          "output_type": "stream",
          "text": [
            "/usr/local/lib/python3.6/dist-packages/ipykernel_launcher.py:2: SettingWithCopyWarning: \n",
            "A value is trying to be set on a copy of a slice from a DataFrame.\n",
            "Try using .loc[row_indexer,col_indexer] = value instead\n",
            "\n",
            "See the caveats in the documentation: http://pandas.pydata.org/pandas-docs/stable/indexing.html#indexing-view-versus-copy\n",
            "  \n",
            "/usr/local/lib/python3.6/dist-packages/ipykernel_launcher.py:3: SettingWithCopyWarning: \n",
            "A value is trying to be set on a copy of a slice from a DataFrame.\n",
            "Try using .loc[row_indexer,col_indexer] = value instead\n",
            "\n",
            "See the caveats in the documentation: http://pandas.pydata.org/pandas-docs/stable/indexing.html#indexing-view-versus-copy\n",
            "  This is separate from the ipykernel package so we can avoid doing imports until\n"
          ],
          "name": "stderr"
        },
        {
          "output_type": "execute_result",
          "data": {
            "text/plain": [
              "[('cabin crew', 85),\n",
              " ('flight attendant', 77),\n",
              " ('hour flight', 72),\n",
              " ('air canada', 63),\n",
              " ('return flight', 61),\n",
              " ('connecting flight', 55),\n",
              " ('customer service', 55),\n",
              " ('flight delayed', 52),\n",
              " ('leg room', 48),\n",
              " ('inflight entertainment', 39),\n",
              " ('flight time', 36),\n",
              " ('entertainment system', 35),\n",
              " ('never fly', 35),\n",
              " ('next day', 34),\n",
              " ('flight cancelled', 34),\n",
              " ('delayed hour', 33),\n",
              " ('seat front', 29),\n",
              " ('even though', 29),\n",
              " ('flight entertainment', 26),\n",
              " ('boarding pas', 25)]"
            ]
          },
          "metadata": {
            "tags": []
          },
          "execution_count": 72
        }
      ]
    },
    {
      "cell_type": "code",
      "metadata": {
        "id": "EeO4JyL3PgFR",
        "colab_type": "code",
        "colab": {
          "base_uri": "https://localhost:8080/",
          "height": 364
        },
        "outputId": "eff65ce3-efb8-4e47-a6ed-37faa673886f"
      },
      "source": [
        "economy[(economy.recommended== 1)][['grams']].apply(count_words)['grams'].most_common(20)"
      ],
      "execution_count": 73,
      "outputs": [
        {
          "output_type": "execute_result",
          "data": {
            "text/plain": [
              "[('cabin crew', 150),\n",
              " ('flight time', 107),\n",
              " ('flight attendant', 91),\n",
              " ('leg room', 77),\n",
              " ('seat comfortable', 60),\n",
              " ('inflight entertainment', 60),\n",
              " ('return flight', 57),\n",
              " ('hour flight', 57),\n",
              " ('economy class', 57),\n",
              " ('entertainment system', 46),\n",
              " ('food good', 43),\n",
              " ('crew friendly', 34),\n",
              " ('long haul', 32),\n",
              " ('short flight', 32),\n",
              " ('staff friendly', 32),\n",
              " ('value money', 32),\n",
              " ('flight crew', 31),\n",
              " ('good service', 31),\n",
              " ('flight entertainment', 30),\n",
              " ('seat pitch', 30)]"
            ]
          },
          "metadata": {
            "tags": []
          },
          "execution_count": 73
        }
      ]
    },
    {
      "cell_type": "code",
      "metadata": {
        "id": "S8PVQvbNN0zC",
        "colab_type": "code",
        "colab": {
          "base_uri": "https://localhost:8080/",
          "height": 593
        },
        "outputId": "b2987f62-2cd8-4388-aab0-4e17541c7546"
      },
      "source": [
        "business['normalized'] = business[\"content\"].apply(normalizer)\n",
        "business['grams'] = business.normalized.apply(ngrams)\n",
        "business[(business.recommended== 0)][['grams']].apply(count_words)['grams'].most_common(20)"
      ],
      "execution_count": 74,
      "outputs": [
        {
          "output_type": "stream",
          "text": [
            "/usr/local/lib/python3.6/dist-packages/ipykernel_launcher.py:1: SettingWithCopyWarning: \n",
            "A value is trying to be set on a copy of a slice from a DataFrame.\n",
            "Try using .loc[row_indexer,col_indexer] = value instead\n",
            "\n",
            "See the caveats in the documentation: http://pandas.pydata.org/pandas-docs/stable/indexing.html#indexing-view-versus-copy\n",
            "  \"\"\"Entry point for launching an IPython kernel.\n",
            "/usr/local/lib/python3.6/dist-packages/ipykernel_launcher.py:2: SettingWithCopyWarning: \n",
            "A value is trying to be set on a copy of a slice from a DataFrame.\n",
            "Try using .loc[row_indexer,col_indexer] = value instead\n",
            "\n",
            "See the caveats in the documentation: http://pandas.pydata.org/pandas-docs/stable/indexing.html#indexing-view-versus-copy\n",
            "  \n"
          ],
          "name": "stderr"
        },
        {
          "output_type": "execute_result",
          "data": {
            "text/plain": [
              "[('business class', 141),\n",
              " ('cabin crew', 24),\n",
              " ('hour flight', 20),\n",
              " ('flat bed', 16),\n",
              " ('class seat', 14),\n",
              " ('flight attendant', 14),\n",
              " ('entertainment system', 13),\n",
              " ('lie flat', 12),\n",
              " ('inflight entertainment', 11),\n",
              " ('amenity kit', 11),\n",
              " ('business class seat', 11),\n",
              " ('flat seat', 10),\n",
              " ('long haul', 10),\n",
              " ('much better', 10),\n",
              " ('economy class', 9),\n",
              " ('food service', 8),\n",
              " ('class passenger', 8),\n",
              " ('class service', 8),\n",
              " ('return flight', 7),\n",
              " ('business class passenger', 7)]"
            ]
          },
          "metadata": {
            "tags": []
          },
          "execution_count": 74
        }
      ]
    },
    {
      "cell_type": "code",
      "metadata": {
        "id": "ZZkyfgZWPbOy",
        "colab_type": "code",
        "colab": {
          "base_uri": "https://localhost:8080/",
          "height": 364
        },
        "outputId": "e7db79b4-1219-4a18-ca78-9f3aa5b5f676"
      },
      "source": [
        "business[(business.recommended== 1)][['grams']].apply(count_words)['grams'].most_common(20)"
      ],
      "execution_count": 75,
      "outputs": [
        {
          "output_type": "execute_result",
          "data": {
            "text/plain": [
              "[('business class', 196),\n",
              " ('cabin crew', 52),\n",
              " ('flight attendant', 37),\n",
              " ('flat bed', 35),\n",
              " ('seat comfortable', 33),\n",
              " ('lie flat', 27),\n",
              " ('service good', 27),\n",
              " ('class seat', 25),\n",
              " ('long haul', 21),\n",
              " ('good food', 21),\n",
              " ('food drink', 21),\n",
              " ('good service', 19),\n",
              " ('flight time', 19),\n",
              " ('inflight entertainment', 18),\n",
              " ('food service', 18),\n",
              " ('food good', 17),\n",
              " ('first class', 17),\n",
              " ('class lounge', 17),\n",
              " ('excellent service', 17),\n",
              " ('short flight', 17)]"
            ]
          },
          "metadata": {
            "tags": []
          },
          "execution_count": 75
        }
      ]
    },
    {
      "cell_type": "code",
      "metadata": {
        "id": "73RgrcbeN1Cn",
        "colab_type": "code",
        "colab": {
          "base_uri": "https://localhost:8080/",
          "height": 593
        },
        "outputId": "ce4d3ea4-dd9b-4107-f05e-bf58d97c8308"
      },
      "source": [
        "peconomy['normalized'] = peconomy[\"content\"].apply(normalizer)\n",
        "peconomy['grams'] = peconomy.normalized.apply(ngrams)\n",
        "peconomy[(peconomy.recommended== 0)][['grams']].apply(count_words)['grams'].most_common(20)\n"
      ],
      "execution_count": 76,
      "outputs": [
        {
          "output_type": "stream",
          "text": [
            "/usr/local/lib/python3.6/dist-packages/ipykernel_launcher.py:1: SettingWithCopyWarning: \n",
            "A value is trying to be set on a copy of a slice from a DataFrame.\n",
            "Try using .loc[row_indexer,col_indexer] = value instead\n",
            "\n",
            "See the caveats in the documentation: http://pandas.pydata.org/pandas-docs/stable/indexing.html#indexing-view-versus-copy\n",
            "  \"\"\"Entry point for launching an IPython kernel.\n",
            "/usr/local/lib/python3.6/dist-packages/ipykernel_launcher.py:2: SettingWithCopyWarning: \n",
            "A value is trying to be set on a copy of a slice from a DataFrame.\n",
            "Try using .loc[row_indexer,col_indexer] = value instead\n",
            "\n",
            "See the caveats in the documentation: http://pandas.pydata.org/pandas-docs/stable/indexing.html#indexing-view-versus-copy\n",
            "  \n"
          ],
          "name": "stderr"
        },
        {
          "output_type": "execute_result",
          "data": {
            "text/plain": [
              "[('premium economy', 22),\n",
              " ('business class', 13),\n",
              " ('connecting flight', 11),\n",
              " ('air canada', 11),\n",
              " ('return flight', 9),\n",
              " ('flight attendant', 7),\n",
              " ('flight delayed', 6),\n",
              " ('leg room', 6),\n",
              " ('cabin crew', 5),\n",
              " ('plane old', 5),\n",
              " ('b flex', 5),\n",
              " ('delayed hour', 5),\n",
              " ('hong kong', 5),\n",
              " ('hour flight', 5),\n",
              " ('flight hour', 5),\n",
              " ('never fly', 5),\n",
              " ('hour late', 5),\n",
              " ('montego bay', 4),\n",
              " ('missed connecting', 4),\n",
              " ('missed connecting flight', 4)]"
            ]
          },
          "metadata": {
            "tags": []
          },
          "execution_count": 76
        }
      ]
    },
    {
      "cell_type": "code",
      "metadata": {
        "id": "buEZPkPaPXrs",
        "colab_type": "code",
        "colab": {
          "base_uri": "https://localhost:8080/",
          "height": 364
        },
        "outputId": "0655eafc-8e8d-4e4d-dfe9-0679397b8ba9"
      },
      "source": [
        "peconomy[(peconomy.recommended== 1)][['grams']].apply(count_words)['grams'].most_common(20)"
      ],
      "execution_count": 77,
      "outputs": [
        {
          "output_type": "execute_result",
          "data": {
            "text/plain": [
              "[('premium economy', 30),\n",
              " ('cabin crew', 12),\n",
              " ('business class', 11),\n",
              " ('leg room', 10),\n",
              " ('return flight', 8),\n",
              " ('economy class', 7),\n",
              " ('meal service', 6),\n",
              " ('air nz', 6),\n",
              " ('hong kong', 6),\n",
              " ('well worth', 5),\n",
              " ('regular economy', 5),\n",
              " ('good value', 5),\n",
              " ('food drink', 5),\n",
              " ('inflight entertainment', 5),\n",
              " ('economy seat', 5),\n",
              " ('seat comfortable', 5),\n",
              " ('hour flight', 5),\n",
              " ('much better', 5),\n",
              " ('p e', 5),\n",
              " ('first time', 4)]"
            ]
          },
          "metadata": {
            "tags": []
          },
          "execution_count": 77
        }
      ]
    },
    {
      "cell_type": "code",
      "metadata": {
        "id": "B9DUZ-w_N1Vo",
        "colab_type": "code",
        "colab": {
          "base_uri": "https://localhost:8080/",
          "height": 593
        },
        "outputId": "21abba50-db6c-4740-973e-b23a569f3000"
      },
      "source": [
        "first['normalized'] = first[\"content\"].apply(normalizer)\n",
        "first['grams'] = first.normalized.apply(ngrams)\n",
        "first[(first.recommended== 0)][['grams']].apply(count_words)['grams'].most_common(20)"
      ],
      "execution_count": 78,
      "outputs": [
        {
          "output_type": "stream",
          "text": [
            "/usr/local/lib/python3.6/dist-packages/ipykernel_launcher.py:1: SettingWithCopyWarning: \n",
            "A value is trying to be set on a copy of a slice from a DataFrame.\n",
            "Try using .loc[row_indexer,col_indexer] = value instead\n",
            "\n",
            "See the caveats in the documentation: http://pandas.pydata.org/pandas-docs/stable/indexing.html#indexing-view-versus-copy\n",
            "  \"\"\"Entry point for launching an IPython kernel.\n",
            "/usr/local/lib/python3.6/dist-packages/ipykernel_launcher.py:2: SettingWithCopyWarning: \n",
            "A value is trying to be set on a copy of a slice from a DataFrame.\n",
            "Try using .loc[row_indexer,col_indexer] = value instead\n",
            "\n",
            "See the caveats in the documentation: http://pandas.pydata.org/pandas-docs/stable/indexing.html#indexing-view-versus-copy\n",
            "  \n"
          ],
          "name": "stderr"
        },
        {
          "output_type": "execute_result",
          "data": {
            "text/plain": [
              "[('first class', 28),\n",
              " ('flight attendant', 11),\n",
              " ('class seat', 6),\n",
              " ('first class seat', 6),\n",
              " ('global first', 6),\n",
              " ('u airway', 4),\n",
              " ('new york', 4),\n",
              " ('food service', 4),\n",
              " ('class ticket', 3),\n",
              " ('flight flight', 3),\n",
              " ('business class', 3),\n",
              " ('looking forward', 3),\n",
              " ('meal service', 3),\n",
              " ('hour flight', 3),\n",
              " ('customer service', 3),\n",
              " ('gate area', 3),\n",
              " ('attendant pleasant', 3),\n",
              " ('flight attendant pleasant', 3),\n",
              " ('inflight entertainment', 3),\n",
              " ('air canada', 3)]"
            ]
          },
          "metadata": {
            "tags": []
          },
          "execution_count": 78
        }
      ]
    },
    {
      "cell_type": "code",
      "metadata": {
        "id": "FQGi1tzRMBrB",
        "colab_type": "code",
        "colab": {
          "base_uri": "https://localhost:8080/",
          "height": 364
        },
        "outputId": "61eaca2c-1c45-4a83-8d16-db8cbb6828a4"
      },
      "source": [
        "first[(first.recommended== 1)][['grams']].apply(count_words)['grams'].most_common(20)"
      ],
      "execution_count": 80,
      "outputs": [
        {
          "output_type": "execute_result",
          "data": {
            "text/plain": [
              "[('first class', 35),\n",
              " ('seat comfortable', 10),\n",
              " ('good selection', 5),\n",
              " ('return flight', 5),\n",
              " ('class service', 5),\n",
              " ('first class service', 5),\n",
              " ('flew first', 4),\n",
              " ('old day', 4),\n",
              " ('throughout flight', 4),\n",
              " ('food good', 4),\n",
              " ('class cabin', 4),\n",
              " ('return first', 4),\n",
              " ('food excellent', 3),\n",
              " ('class flight', 3),\n",
              " ('first class flight', 3),\n",
              " ('comfortable entertainment', 3),\n",
              " ('flight attendant', 3),\n",
              " ('taken care', 3),\n",
              " ('cabin crew', 3),\n",
              " ('friendly helpful', 3)]"
            ]
          },
          "metadata": {
            "tags": []
          },
          "execution_count": 80
        }
      ]
    },
    {
      "cell_type": "code",
      "metadata": {
        "id": "RtX_PzkLQAjg",
        "colab_type": "code",
        "colab": {}
      },
      "source": [
        ""
      ],
      "execution_count": 0,
      "outputs": []
    }
  ]
}